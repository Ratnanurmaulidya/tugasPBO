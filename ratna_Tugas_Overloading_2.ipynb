{
  "nbformat": 4,
  "nbformat_minor": 0,
  "metadata": {
    "colab": {
      "provenance": [],
      "include_colab_link": true
    },
    "kernelspec": {
      "name": "python3",
      "display_name": "Python 3"
    },
    "language_info": {
      "name": "python"
    }
  },
  "cells": [
    {
      "cell_type": "markdown",
      "metadata": {
        "id": "view-in-github",
        "colab_type": "text"
      },
      "source": [
        "<a href=\"https://colab.research.google.com/github/Ratnanurmaulidya/tugasPBO/blob/main/ratna_Tugas_Overloading_2.ipynb\" target=\"_parent\"><img src=\"https://colab.research.google.com/assets/colab-badge.svg\" alt=\"Open In Colab\"/></a>"
      ]
    },
    {
      "cell_type": "code",
      "execution_count": 1,
      "metadata": {
        "id": "5zCytCeM1uD4"
      },
      "outputs": [],
      "source": [
        "#class Nama\n",
        "class nama:\n",
        "\n",
        "#Buat fungsi yang digunakan untuk mengabungkan nama dengan ketentuan nama depan, nama tengah, nama akhir, dan seterusnya dianggap 1 (satu) parameter\n",
        "  def gabung(self, *args):\n",
        "      if (len(args) <= 4):\n",
        "          sum = ''\n",
        "          for num in args:\n",
        "              sum += num\n",
        "          print(sum)\n",
        "      else:\n",
        "          print(\"Maksimum 4 argumen\")\n",
        ""
      ]
    },
    {
      "cell_type": "code",
      "source": [
        "#Buat main program\n",
        "hasil = nama()\n",
        "#Panggil fungsi untuk membuat nama lengkap 4 nama teman kalian\n",
        "hasil.gabung(\"ratna\", \"nur\", \"maulidya\")\n",
        "hasil.gabung(\"diaz\", \"yanita\")\n",
        "hasil.gabung(\"donatul\", \"fadilatur\", \"rodiyah\")\n",
        "hasil.gabung(\"silvi\", \"duwi\", \"nabila\")"
      ],
      "metadata": {
        "id": "liQBcJWZ12MN",
        "colab": {
          "base_uri": "https://localhost:8080/"
        },
        "outputId": "da826ae6-334c-424d-ed3b-4fde3608523f"
      },
      "execution_count": 2,
      "outputs": [
        {
          "output_type": "stream",
          "name": "stdout",
          "text": [
            "ratnanurmaulidya\n",
            "diazyanita\n",
            "donatulfadilaturrodiyah\n",
            "silviduwinabila\n"
          ]
        }
      ]
    },
    {
      "cell_type": "code",
      "source": [
        "#kesimpulan dari materi Overloading menurut pemahaman anda!\n",
        "#jadi sebuah kelas dapat memiliki beberapa method dengan nama yang sama tetapi dengan parameter berbeda"
      ],
      "metadata": {
        "id": "xwFmppIG3JGE"
      },
      "execution_count": 3,
      "outputs": []
    }
  ]
}